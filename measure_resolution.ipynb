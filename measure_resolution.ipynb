{
 "cells": [
  {
   "cell_type": "code",
   "execution_count": 3,
   "metadata": {},
   "outputs": [],
   "source": [
    "from datetime import datetime\n",
    "import numpy as np\n",
    "import matplotlib.pyplot as plt\n",
    "\n",
    "plt.style.use([\"science\", \"nature\", \"bright\", \"grid\"])\n",
    "plt.rcParams[\"font.family\"] = \"Helvetica\"\n",
    "plt.rcParams[\"font.size\"] = 11\n",
    "plt.rcParams['legend.title_fontsize'] = 'x-small'\n",
    "\n",
    "timestr = datetime.now().strftime(\"%Y%m%d-%H%M%S\")\n"
   ]
  },
  {
   "cell_type": "code",
   "execution_count": 4,
   "metadata": {},
   "outputs": [],
   "source": [
    "## Constants\n",
    "hc = 1240 # eV nm\n",
    "\n",
    "## Input parameters\n",
    "gd = 1200 # Grating groove density; l/mm\n",
    "mono_angle = 6 # Monochromator angle; deg\n",
    "grating_to_collimator = 75 # Distance from grating to collimating mirror; cm\n",
    "m = 1 # Diffraction order\n",
    "focal_spot_size = 35 # Focal spot size at the output of the monochromator; um\n",
    "\n",
    "##  Simulation parameters\n",
    "min_wl = 100 # Minimum wavelength; nm\n",
    "max_wl = 250 # Maximum wavelength; nm\n",
    "wl_steps = 256 # Number of steps to simulate\n"
   ]
  },
  {
   "cell_type": "code",
   "execution_count": null,
   "metadata": {},
   "outputs": [],
   "source": [
    "## Calculations\n",
    "# Grating equation:\n",
    "# m l / d = sin(a) + sin(b)\n",
    "# We're constrained such that a - b = mono_angle \n",
    "\n",
    "# First, generate photon energy as a function of diffraction angle\n",
    "# E(b)\n",
    "wls = np.linspace(min_wl, max_wl, wl_steps)\n",
    "eVs = hc / wls\n",
    "E_b = \n",
    "\n",
    "# Take the derivative to get the angular dispersion\n",
    "# dE / db\n",
    "\n",
    "\n",
    "# Next, convert angular dispersion to linear dispersion using small angle approximation\n",
    "# dE / dl ≈ dE / db * 1/r, where r is the distance from grating to the collimating mirror\n",
    "dEdl = dEdb / (grating_to_collimator*1e-2)\n",
    "\n",
    "# Convert linear dispersion to spectral resolution using the point-spread function\n",
    "# ΔE = (dE / dl) * Δl where Δl is the point-spread function (focal spot size)\n",
    "DE = dEdl * (focal_spot_size * 1e-6)\n"
   ]
  },
  {
   "cell_type": "code",
   "execution_count": 6,
   "metadata": {},
   "outputs": [
    {
     "data": {
      "image/png": "[encoded data removed]",
      "text/plain": "<Figure size 288x144 with 1 Axes>"
     },
     "metadata": {
      "needs_background": "light",
      "transient": {}
     },
     "output_type": "display_data"
    }
   ],
   "source": [
    "## Plots\n",
    "plt.figure(figsize=(4,2))\n",
    "\n",
    "plt.plot(wls, DE * 1e3, color=\"k\")\n",
    "\n",
    "plt.xlabel(\"Wavelength (nm)\")\n",
    "plt.ylabel(\"Resolution (meV)\")\n",
    "\n",
    "plt.savefig(\"figure.jpg\", dpi=300)\n",
    "\n",
    "plt.show()\n"
   ]
  },
  {
   "cell_type": "code",
   "execution_count": null,
   "metadata": {},
   "outputs": [],
   "source": []
  }
 ],
 "metadata": {
  "kernelspec": {
   "display_name": "Python 3",
   "language": "python",
   "name": "python3"
  },
  "language_info": {
   "codemirror_mode": {
    "name": "ipython",
    "version": 3
   },
   "file_extension": ".py",
   "mimetype": "text/x-python",
   "name": "python",
   "nbconvert_exporter": "python",
   "pygments_lexer": "ipython3",
   "version": "3.9.1-final"
  },
  "orig_nbformat": 2
 },
 "nbformat": 4,
 "nbformat_minor": 2
}