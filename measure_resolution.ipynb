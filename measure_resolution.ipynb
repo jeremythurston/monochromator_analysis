{
 "cells": [
  {
   "cell_type": "code",
   "execution_count": 27,
   "metadata": {},
   "outputs": [],
   "source": [
    "from datetime import datetime\n",
    "import numpy as np\n",
    "import matplotlib.pyplot as plt\n",
    "\n",
    "plt.style.use([\"science\", \"nature\", \"bright\", \"grid\"])\n",
    "plt.rcParams[\"font.family\"] = \"Helvetica\"\n",
    "plt.rcParams[\"font.size\"] = 11\n",
    "plt.rcParams['legend.title_fontsize'] = 'x-small'\n",
    "\n",
    "timestr = datetime.now().strftime(\"%Y%m%d-%H%M%S\")\n"
   ]
  },
  {
   "cell_type": "code",
   "execution_count": 28,
   "metadata": {},
   "outputs": [],
   "source": [
    "## Constants\n",
    "hc = 1240 # eV nm\n",
    "\n",
    "## Input parameters\n",
    "gd = 1200 # Grating groove density; l/mm\n",
    "mono_angle = 7 # Monochromator angle; deg\n",
    "grating_to_collimator = 75 # Distance from grating to collimating mirror; cm\n",
    "m = 1 # Diffraction order\n",
    "focal_spot_size = 35 # Focal spot size at the output of the monochromator; um\n",
    "\n",
    "##  Simulation parameters\n",
    "# min_wl = 100 # Minimum wavelength; nm\n",
    "# max_wl = 250 # Maximum wavelength; nm\n",
    "# wl_steps = 256 # Number of steps to simulate #TODO: This might be deprecated\n",
    "d = 1e6 / gd # Grating pitch; nm\n",
    "alphas = np.linspace(-np.pi, np.pi, 2048) # Angles of incidence to scan; rad\n",
    "betas = alphas - np.radians(mono_angle) # Diffracted angles; rad"
   ]
  },
  {
   "cell_type": "code",
   "execution_count": 29,
   "metadata": {},
   "outputs": [],
   "source": [
    "## Calculations\n",
    "# Grating equation:\n",
    "#       E = [sin(a) + sin(b)]^-1 * (m hc / d)\n",
    "# We're constrained such that a - b = mono_angle, so\n",
    "#       E = [sin(b + mono_angle) + sin(b)]^-1 * (m hc / d)\n",
    "\n",
    "# First, generate photon energy as a function of diffraction angle\n",
    "# E(b)\n",
    "eVs = (m * hc / d) / (np.sin(alphas) + np.sin(betas))\n",
    "\n",
    "# Filter out non-physical answers\n",
    "c1 = np.logical_and(np.degrees(betas) > -90, np.degrees(betas) < 90)\n",
    "c2 = np.logical_and(eVs > 0, eVs < 100)\n",
    "physical_values = np.logical_and(c1, c2)\n",
    "\n",
    "eVs = eVs[physical_values]\n",
    "alphas = alphas[physical_values]\n",
    "betas = betas[physical_values]\n",
    "\n",
    "# Take the derivative to get the angular dispersion\n",
    "# dE / db\n",
    "dE_db = np.gradient(eVs, betas)\n",
    "\n",
    "# Convert angular dispersion to linear dispersion using small angle approximation\n",
    "# dE / dl ≈ dE / db * 1/r, where r is the distance from grating to the collimating mirror\n",
    "dE_dl = dE_db / (grating_to_collimator*1e-2)\n",
    "\n",
    "# Convert linear dispersion to spectral resolution using the point-spread function\n",
    "# ΔE = (dE / dl) * Δl where Δl is the point-spread function (focal spot size)\n",
    "DE = dE_dl * (focal_spot_size * 1e-6)\n"
   ]
  },
  {
   "cell_type": "code",
   "execution_count": 36,
   "metadata": {},
   "outputs": [
    {
     "data": {
      "image/png": "[encoded data removed]",
      "text/plain": "<Figure size 288x144 with 1 Axes>"
     },
     "metadata": {
      "needs_background": "light",
      "transient": {}
     },
     "output_type": "display_data"
    }
   ],
   "source": [
    "## Plots\n",
    "plt.figure(figsize=(5,2))\n",
    "\n",
    "plt.plot(eVs[eVs < 20], np.abs(DE[eVs < 20]) * 1e3, color=\"k\")\n",
    "\n",
    "plt.xlabel(\"Wavelength (nm)\")\n",
    "plt.ylabel(\"Resolution (meV)\")\n",
    "\n",
    "plt.savefig(\"figure.jpg\", dpi=300)\n",
    "\n",
    "plt.show()\n"
   ]
  },
  {
   "cell_type": "code",
   "execution_count": null,
   "metadata": {},
   "outputs": [],
   "source": []
  }
 ],
 "metadata": {
  "kernelspec": {
   "display_name": "Python 3",
   "language": "python",
   "name": "python3"
  },
  "language_info": {
   "codemirror_mode": {
    "name": "ipython",
    "version": 3
   },
   "file_extension": ".py",
   "mimetype": "text/x-python",
   "name": "python",
   "nbconvert_exporter": "python",
   "pygments_lexer": "ipython3",
   "version": "3.8.5"
  },
  "orig_nbformat": 2
 },
 "nbformat": 4,
 "nbformat_minor": 2
}